{
 "cells": [
  {
   "cell_type": "markdown",
   "metadata": {},
   "source": [
    "**Background of Problem Statement :**\n",
    "\n",
    "You are expected to write the code for a binary classification model (phishing website or not) using Python Scikit-Learn that trains on the data and calculates the accuracy score on the test data. You have to use one or more of the classification algorithms to train a model on the phishing website dataset.\n",
    "\n",
    "**Problem Objective :**\n",
    "\n",
    "The dataset is a text file which provides the following resources that can be used as inputs for model building :\n",
    "\n",
    " A collection of website URLs for 11000+ websites. Each sample has 30 website parameters and a class label identifying it as a phishing website or not (1 or -1).\n",
    "The code template containing these code blocks:\n",
    "Import modules (Part 1)\n",
    "Load data function + input/output field descriptions\n",
    "The dataset also serves as an input for project scoping and tries to specify the functional and non-functional requirements for it.\n",
    "\n",
    "**Domain: Cyber Security and Web Mining**\n",
    "\n",
    "**Questions to be answered with analysis :**\n",
    "\n",
    "Write the code for a binary classification model (phishing website or not) using Python Scikit-Learn that trains on the data and calculates the accuracy score on the test data.\n",
    "Use one or more of the classification algorithms to train a model on the phishing website dataset.\n",
    "Analysis Tasks to be performed:\n",
    "\n",
    "**Initiation :**\n",
    "\n",
    "Begin by creating a new ipynb file and load the dataset in it.\n",
    "\n",
    "**Exercise 1 :**\n",
    "Build a phishing website classifier using Logistic Regression with “C” parameter = 100. \n",
    "Use 70% of data as training data and the remaining 30% as test data.                                                                                                                                                                          [ Hint: Use Scikit-Learn library LogisticRegression ]                                                                                                                                                                                                    [ Hint: Refer to the logistic regression tutorial taught earlier in the course ]\n",
    "Print count of misclassified samples in the test data prediction as well as the accuracy score of the model. \n",
    " \n",
    "\n",
    "**Exercise 2 :**\n",
    "\n",
    "Train with only two input parameters - parameter Prefix_Suffix and 13 URL_of_Anchor.\n",
    "Check accuracy using the test data and compare the accuracy with the previous value.\n",
    "Plot the test samples along with the decision boundary when trained with index 5 and index 13 parameters.\n",
    "\n",
    "**Hint :**\n",
    "\n",
    "The dataset is a “.txt” file with no headers and has only the column values.\n",
    "The actual column-wise header is described above and, if needed, you can add the header manually.\n",
    "The header list is as follows :\n",
    "[ 'UsingIP', 'LongURL', 'ShortURL', 'Symbol@', 'Redirecting//',\n",
    "           'PrefixSuffix-', 'SubDomains', 'HTTPS', 'DomainRegLen', 'Favicon',\n",
    "           'NonStdPort', 'HTTPSDomainURL', 'RequestURL', 'AnchorURL',\n",
    "           'LinksInScriptTags', 'ServerFormHandler', 'InfoEmail', 'AbnormalURL',\n",
    "           'WebsiteForwarding', 'StatusBarCust', 'DisableRightClick',\n",
    "           'UsingPopupWindow', 'IframeRedirection', 'AgeofDomain',\n",
    "           'DNSRecording', 'WebsiteTraffic', 'PageRank', 'GoogleIndex',\n",
    "           'LinksPointingToPage', 'StatsReport', 'class' ]"
   ]
  },
  {
   "cell_type": "code",
   "execution_count": 1,
   "metadata": {},
   "outputs": [],
   "source": [
    "#import packages\n",
    "import pandas as pd\n",
    "import matplotlib.pyplot as plt\n",
    "import numpy as np"
   ]
  },
  {
   "cell_type": "code",
   "execution_count": 2,
   "metadata": {},
   "outputs": [],
   "source": [
    "#load Dataset and classify as features and label\n",
    "phishingData = pd.read_csv('phishing.txt')\n",
    "X = phishingData.iloc[:,:-1].values\n",
    "y = phishingData.iloc[:,30].values"
   ]
  },
  {
   "cell_type": "code",
   "execution_count": 6,
   "metadata": {},
   "outputs": [
    {
     "data": {
      "text/plain": [
       "array([-1, -1, -1, ..., -1, -1, -1], dtype=int64)"
      ]
     },
     "execution_count": 6,
     "metadata": {},
     "output_type": "execute_result"
    }
   ],
   "source": [
    "y"
   ]
  },
  {
   "cell_type": "code",
   "execution_count": 8,
   "metadata": {},
   "outputs": [],
   "source": [
    "#split features and label into training ang testing data\n",
    "from sklearn.model_selection import train_test_split\n",
    "X_train,X_test,y_train,y_test = train_test_split(X,y,test_size=0.3,random_state=4)"
   ]
  },
  {
   "cell_type": "code",
   "execution_count": 9,
   "metadata": {},
   "outputs": [],
   "source": [
    "#perform feature scaling\n",
    "from sklearn.preprocessing import StandardScaler\n",
    "scalar = StandardScaler()\n",
    "X_train = scalar.fit_transform (X_train)\n",
    "X_test = scalar.fit_transform (X_test)"
   ]
  },
  {
   "cell_type": "code",
   "execution_count": 10,
   "metadata": {},
   "outputs": [
    {
     "name": "stderr",
     "output_type": "stream",
     "text": [
      "C:\\Users\\user\\Anaconda3\\lib\\site-packages\\sklearn\\linear_model\\logistic.py:432: FutureWarning: Default solver will be changed to 'lbfgs' in 0.22. Specify a solver to silence this warning.\n",
      "  FutureWarning)\n"
     ]
    },
    {
     "data": {
      "text/plain": [
       "LogisticRegression(C=100, class_weight=None, dual=False, fit_intercept=True,\n",
       "                   intercept_scaling=1, l1_ratio=None, max_iter=100,\n",
       "                   multi_class='warn', n_jobs=None, penalty='l2',\n",
       "                   random_state=0, solver='warn', tol=0.0001, verbose=0,\n",
       "                   warm_start=False)"
      ]
     },
     "execution_count": 10,
     "metadata": {},
     "output_type": "execute_result"
    }
   ],
   "source": [
    "#Logistic Regression Classifier \n",
    "from sklearn.linear_model import LogisticRegression\n",
    "LRclassifier = LogisticRegression(C=100,random_state=0)\n",
    "LRclassifier.fit(X_train,y_train)"
   ]
  },
  {
   "cell_type": "code",
   "execution_count": 11,
   "metadata": {},
   "outputs": [],
   "source": [
    "LRpredict = LRclassifier.predict(X_test)"
   ]
  },
  {
   "cell_type": "code",
   "execution_count": 12,
   "metadata": {},
   "outputs": [
    {
     "data": {
      "text/plain": [
       "0.9298177588212485"
      ]
     },
     "execution_count": 12,
     "metadata": {},
     "output_type": "execute_result"
    }
   ],
   "source": [
    "#LRC training score\n",
    "LRclassifier.score(X_train,y_train)"
   ]
  },
  {
   "cell_type": "code",
   "execution_count": 13,
   "metadata": {},
   "outputs": [
    {
     "data": {
      "text/plain": [
       "0.9273439855290926"
      ]
     },
     "execution_count": 13,
     "metadata": {},
     "output_type": "execute_result"
    }
   ],
   "source": [
    "#LRC test score\n",
    "LRclassifier.score(X_test,y_test)"
   ]
  },
  {
   "cell_type": "code",
   "execution_count": 14,
   "metadata": {},
   "outputs": [],
   "source": [
    "#confusion matrix for printing count of misclassified samples in the test data prediction\n",
    "from sklearn.metrics import confusion_matrix\n",
    "confusionMatrix = confusion_matrix(y_test,LRpredict)"
   ]
  },
  {
   "cell_type": "code",
   "execution_count": 15,
   "metadata": {},
   "outputs": [
    {
     "data": {
      "text/plain": [
       "array([[1357,  153],\n",
       "       [  88, 1719]], dtype=int64)"
      ]
     },
     "execution_count": 15,
     "metadata": {},
     "output_type": "execute_result"
    }
   ],
   "source": [
    "confusionMatrix"
   ]
  },
  {
   "cell_type": "code",
   "execution_count": null,
   "metadata": {},
   "outputs": [],
   "source": []
  },
  {
   "cell_type": "code",
   "execution_count": 16,
   "metadata": {},
   "outputs": [],
   "source": [
    "# classify as features(Prefix_Suffix and URL_of_Anchor) and label with index 5\n",
    "X = phishingData.iloc[0:5,[6,14]].values\n",
    "y = phishingData.iloc[0:5,30].values"
   ]
  },
  {
   "cell_type": "code",
   "execution_count": 18,
   "metadata": {},
   "outputs": [],
   "source": [
    "#split features and label into training ang testing data\n",
    "from sklearn.model_selection import train_test_split\n",
    "X_train,X_test,y_train,y_test = train_test_split(X,y,test_size=0.3,random_state=4)"
   ]
  },
  {
   "cell_type": "code",
   "execution_count": 19,
   "metadata": {},
   "outputs": [],
   "source": [
    "#perform feature scaling\n",
    "from sklearn.preprocessing import StandardScaler\n",
    "scalar = StandardScaler()\n",
    "X_train = scalar.fit_transform (X_train)\n",
    "X_test = scalar.fit_transform (X_test)"
   ]
  },
  {
   "cell_type": "code",
   "execution_count": 20,
   "metadata": {},
   "outputs": [
    {
     "name": "stderr",
     "output_type": "stream",
     "text": [
      "C:\\Users\\user\\Anaconda3\\lib\\site-packages\\sklearn\\linear_model\\logistic.py:432: FutureWarning: Default solver will be changed to 'lbfgs' in 0.22. Specify a solver to silence this warning.\n",
      "  FutureWarning)\n"
     ]
    },
    {
     "data": {
      "text/plain": [
       "LogisticRegression(C=100, class_weight=None, dual=False, fit_intercept=True,\n",
       "                   intercept_scaling=1, l1_ratio=None, max_iter=100,\n",
       "                   multi_class='warn', n_jobs=None, penalty='l2',\n",
       "                   random_state=0, solver='warn', tol=0.0001, verbose=0,\n",
       "                   warm_start=False)"
      ]
     },
     "execution_count": 20,
     "metadata": {},
     "output_type": "execute_result"
    }
   ],
   "source": [
    "#Logistic Regression Classifier \n",
    "from sklearn.linear_model import LogisticRegression\n",
    "LRclassifier1 = LogisticRegression(C=100,random_state=0)\n",
    "LRclassifier1.fit(X_train,y_train)"
   ]
  },
  {
   "cell_type": "code",
   "execution_count": 21,
   "metadata": {},
   "outputs": [],
   "source": [
    "LRpredict1 = LRclassifier1.predict(X_test)"
   ]
  },
  {
   "cell_type": "code",
   "execution_count": 22,
   "metadata": {},
   "outputs": [
    {
     "data": {
      "text/plain": [
       "1.0"
      ]
     },
     "execution_count": 22,
     "metadata": {},
     "output_type": "execute_result"
    }
   ],
   "source": [
    "#LRC training score\n",
    "LRclassifier1.score(X_train,y_train)"
   ]
  },
  {
   "cell_type": "code",
   "execution_count": 23,
   "metadata": {},
   "outputs": [
    {
     "data": {
      "text/plain": [
       "1.0"
      ]
     },
     "execution_count": 23,
     "metadata": {},
     "output_type": "execute_result"
    }
   ],
   "source": [
    "#LRC test score\n",
    "LRclassifier1.score(X_test,y_test)"
   ]
  },
  {
   "cell_type": "code",
   "execution_count": 24,
   "metadata": {},
   "outputs": [],
   "source": [
    "#confusion matrix for printing count of misclassified samples in the test data prediction\n",
    "from sklearn.metrics import confusion_matrix\n",
    "LRconfusionMatrix1 = confusion_matrix(y_test,LRpredict1)"
   ]
  },
  {
   "cell_type": "code",
   "execution_count": 25,
   "metadata": {},
   "outputs": [],
   "source": [
    "#visualize the Test set\n",
    "xx, yy = np.mgrid[-5:5:.01, -5:5:.01]\n",
    "grid = np.c_[xx.ravel(), yy.ravel()]\n",
    "probs = LRclassifier1.predict_proba(grid)[:, 1].reshape(xx.shape)"
   ]
  },
  {
   "cell_type": "code",
   "execution_count": 26,
   "metadata": {},
   "outputs": [
    {
     "name": "stdout",
     "output_type": "stream",
     "text": [
      "[[8.12989106e-11 8.17055455e-11 8.21142142e-11 ... 1.17595783e-08\n",
      "  1.18183965e-08 1.18775089e-08]\n",
      " [8.44905622e-11 8.49131608e-11 8.53378731e-11 ... 1.22212386e-08\n",
      "  1.22823659e-08 1.23437989e-08]\n",
      " [8.78075123e-11 8.82467013e-11 8.86880871e-11 ... 1.27010228e-08\n",
      "  1.27645498e-08 1.28283946e-08]\n",
      " ...\n",
      " [9.99999739e-01 9.99999740e-01 9.99999742e-01 ... 9.99999998e-01\n",
      "  9.99999998e-01 9.99999998e-01]\n",
      " [9.99999749e-01 9.99999750e-01 9.99999751e-01 ... 9.99999998e-01\n",
      "  9.99999998e-01 9.99999998e-01]\n",
      " [9.99999758e-01 9.99999760e-01 9.99999761e-01 ... 9.99999998e-01\n",
      "  9.99999998e-01 9.99999998e-01]]\n"
     ]
    }
   ],
   "source": [
    "print(probs)"
   ]
  },
  {
   "cell_type": "code",
   "execution_count": 29,
   "metadata": {},
   "outputs": [
    {
     "data": {
      "image/png": "[encoded data removed]",
      "text/plain": [
       "<Figure size 576x432 with 2 Axes>"
      ]
     },
     "metadata": {
      "needs_background": "light"
     },
     "output_type": "display_data"
    }
   ],
   "source": [
    "f, ax = plt.subplots(figsize=(8, 6))\n",
    "contour = ax.contourf(xx, yy, probs, 25, cmap=\"RdBu\",\n",
    "                      vmin=0, vmax=1)\n",
    "ax_c = f.colorbar(contour)\n",
    "ax_c.set_label(\"$P(y = 1)$\")\n",
    "ax_c.set_ticks([0, .25, .5, .75, 1])\n",
    "\n",
    "ax.scatter(X_test[:, 0], X_test[:, 1],c = (y_test == 1 ), s=50,\n",
    "           cmap=\"RdBu\", vmin=-.2, vmax=1.2,\n",
    "           edgecolor=\"white\", linewidth=1)\n",
    "\n",
    "ax.set(aspect=\"equal\",\n",
    "       xlim=(-5, 5), ylim=(-5, 5),\n",
    "       xlabel=\"$X_1$\", ylabel=\"$X_2$\")\n",
    "\n",
    "plt.show()"
   ]
  },
  {
   "cell_type": "markdown",
   "metadata": {},
   "source": []
  },
  {
   "cell_type": "code",
   "execution_count": 30,
   "metadata": {},
   "outputs": [],
   "source": [
    "# classify as features(Prefix_Suffix and URL_of_Anchor) and label with index 13\n",
    "X = phishingData.iloc[0:13,[6,14]].values\n",
    "y = phishingData.iloc[0:13,30].values"
   ]
  },
  {
   "cell_type": "code",
   "execution_count": 31,
   "metadata": {},
   "outputs": [],
   "source": [
    "#split features and label into training ang testing data\n",
    "\n",
    "X_train,X_test,y_train,y_test = train_test_split(X,y,test_size=0.3,random_state=4)"
   ]
  },
  {
   "cell_type": "code",
   "execution_count": 32,
   "metadata": {},
   "outputs": [],
   "source": [
    "#perform feature scaling\n",
    "from sklearn.preprocessing import StandardScaler\n",
    "scalar = StandardScaler()\n",
    "X_train = scalar.fit_transform (X_train)\n",
    "X_test = scalar.transform (X_test)"
   ]
  },
  {
   "cell_type": "code",
   "execution_count": 33,
   "metadata": {},
   "outputs": [
    {
     "name": "stderr",
     "output_type": "stream",
     "text": [
      "C:\\Users\\user\\Anaconda3\\lib\\site-packages\\sklearn\\linear_model\\logistic.py:432: FutureWarning: Default solver will be changed to 'lbfgs' in 0.22. Specify a solver to silence this warning.\n",
      "  FutureWarning)\n"
     ]
    },
    {
     "data": {
      "text/plain": [
       "LogisticRegression(C=100, class_weight=None, dual=False, fit_intercept=True,\n",
       "                   intercept_scaling=1, l1_ratio=None, max_iter=100,\n",
       "                   multi_class='warn', n_jobs=None, penalty='l2',\n",
       "                   random_state=0, solver='warn', tol=0.0001, verbose=0,\n",
       "                   warm_start=False)"
      ]
     },
     "execution_count": 33,
     "metadata": {},
     "output_type": "execute_result"
    }
   ],
   "source": [
    "#Logistic Regression Classifier \n",
    "from sklearn.linear_model import LogisticRegression\n",
    "LRclassifier11 = LogisticRegression(C=100,random_state=0)\n",
    "LRclassifier11.fit(X_train,y_train)"
   ]
  },
  {
   "cell_type": "code",
   "execution_count": 34,
   "metadata": {},
   "outputs": [],
   "source": [
    "LRpredict11 = LRclassifier11.predict(X_test)"
   ]
  },
  {
   "cell_type": "code",
   "execution_count": 35,
   "metadata": {},
   "outputs": [
    {
     "data": {
      "text/plain": [
       "0.8888888888888888"
      ]
     },
     "execution_count": 35,
     "metadata": {},
     "output_type": "execute_result"
    }
   ],
   "source": [
    "#LRC training score\n",
    "LRclassifier11.score(X_train,y_train)"
   ]
  },
  {
   "cell_type": "code",
   "execution_count": 36,
   "metadata": {},
   "outputs": [
    {
     "data": {
      "text/plain": [
       "1.0"
      ]
     },
     "execution_count": 36,
     "metadata": {},
     "output_type": "execute_result"
    }
   ],
   "source": [
    "#LRC test score\n",
    "LRclassifier11.score(X_test,y_test)"
   ]
  },
  {
   "cell_type": "code",
   "execution_count": 37,
   "metadata": {},
   "outputs": [],
   "source": [
    "#confusion matrix for printing count of misclassified samples in the test data prediction\n",
    "from sklearn.metrics import confusion_matrix\n",
    "LRconfusionMatrix11 = confusion_matrix(y_test,LRpredict11)"
   ]
  },
  {
   "cell_type": "code",
   "execution_count": 38,
   "metadata": {},
   "outputs": [],
   "source": [
    "#visualize the Test set \n",
    "xx, yy = np.mgrid[-5:5:.01, -5:5:.01]\n",
    "grid = np.c_[xx.ravel(), yy.ravel()]\n",
    "probs = LRclassifier11.predict_proba(grid)[:, 1].reshape(xx.shape)"
   ]
  },
  {
   "cell_type": "code",
   "execution_count": 39,
   "metadata": {},
   "outputs": [
    {
     "name": "stdout",
     "output_type": "stream",
     "text": [
      "[[5.10217931e-07 5.15342853e-07 5.20519253e-07 ... 1.07298055e-02\n",
      "  1.08364140e-02 1.09440700e-02]\n",
      " [5.18016238e-07 5.23219491e-07 5.28475009e-07 ... 1.08920165e-02\n",
      "  1.10002188e-02 1.11094838e-02]\n",
      " [5.25933737e-07 5.31216518e-07 5.36552362e-07 ... 1.10566524e-02\n",
      "  1.11664717e-02 1.12773693e-02]\n",
      " ...\n",
      " [6.53557676e-01 6.55817138e-01 6.58069573e-01 ... 9.99975065e-01\n",
      "  9.99975313e-01 9.99975558e-01]\n",
      " [6.56984116e-01 6.59232882e-01 6.61474502e-01 ... 9.99975440e-01\n",
      "  9.99975684e-01 9.99975926e-01]\n",
      " [6.60394275e-01 6.62632166e-01 6.64862792e-01 ... 9.99975810e-01\n",
      "  9.99976050e-01 9.99976288e-01]]\n"
     ]
    }
   ],
   "source": [
    "print(probs)"
   ]
  },
  {
   "cell_type": "code",
   "execution_count": 40,
   "metadata": {},
   "outputs": [
    {
     "data": {
      "image/png": "[encoded data removed]",
      "text/plain": [
       "<Figure size 576x432 with 2 Axes>"
      ]
     },
     "metadata": {
      "needs_background": "light"
     },
     "output_type": "display_data"
    }
   ],
   "source": [
    "f, ax = plt.subplots(figsize=(8, 6))\n",
    "contour = ax.contourf(xx, yy, probs, 25, cmap=\"RdBu\",\n",
    "                      vmin=0, vmax=1)\n",
    "ax_c = f.colorbar(contour)\n",
    "ax_c.set_label(\"$P(y = 1)$\")\n",
    "ax_c.set_ticks([0, .25, .5, .75, 1])\n",
    "\n",
    "ax.scatter(X_test[:, 0], X_test[:, 1],c = (y_test == 1 ), s=50,\n",
    "           cmap=\"RdBu\", vmin=-.2, vmax=1.2,\n",
    "           edgecolor=\"white\", linewidth=1)\n",
    "\n",
    "ax.set(aspect=\"equal\",\n",
    "       xlim=(-5, 5), ylim=(-5, 5),\n",
    "       xlabel=\"$X_1$\", ylabel=\"$X_2$\")\n",
    "\n",
    "plt.show()"
   ]
  },
  {
   "cell_type": "code",
   "execution_count": null,
   "metadata": {},
   "outputs": [],
   "source": []
  }
 ],
 "metadata": {
  "kernelspec": {
   "display_name": "Python 3",
   "language": "python",
   "name": "python3"
  },
  "language_info": {
   "codemirror_mode": {
    "name": "ipython",
    "version": 3
   },
   "file_extension": ".py",
   "mimetype": "text/x-python",
   "name": "python",
   "nbconvert_exporter": "python",
   "pygments_lexer": "ipython3",
   "version": "3.7.4"
  }
 },
 "nbformat": 4,
 "nbformat_minor": 2
}
