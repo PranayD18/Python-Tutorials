{
 "cells": [
  {
   "cell_type": "code",
   "execution_count": 6,
   "metadata": {},
   "outputs": [],
   "source": [
    "import datetime\n",
    "from datetime import datetime\n",
    "\n",
    "import pandas as pd"
   ]
  },
  {
   "cell_type": "code",
   "execution_count": 2,
   "metadata": {},
   "outputs": [
    {
     "name": "stdout",
     "output_type": "stream",
     "text": [
      "2012-01-11 00:00:00\n"
     ]
    }
   ],
   "source": [
    "print(datetime(2012, 1, 11))"
   ]
  },
  {
   "cell_type": "code",
   "execution_count": 3,
   "metadata": {},
   "outputs": [
    {
     "name": "stdout",
     "output_type": "stream",
     "text": [
      "2021-06-15 11:14:57.553846\n"
     ]
    }
   ],
   "source": [
    "print(datetime.now())"
   ]
  },
  {
   "cell_type": "code",
   "execution_count": 4,
   "metadata": {},
   "outputs": [
    {
     "name": "stdout",
     "output_type": "stream",
     "text": [
      "2021-06-15\n"
     ]
    }
   ],
   "source": [
    "print(datetime.now().date())"
   ]
  },
  {
   "cell_type": "code",
   "execution_count": 5,
   "metadata": {},
   "outputs": [
    {
     "name": "stdout",
     "output_type": "stream",
     "text": [
      "11:15:16.587398\n"
     ]
    }
   ],
   "source": [
    "print(datetime.now().time())"
   ]
  },
  {
   "cell_type": "code",
   "execution_count": 7,
   "metadata": {},
   "outputs": [
    {
     "name": "stdout",
     "output_type": "stream",
     "text": [
      "2016-11-10 00:00:00\n"
     ]
    }
   ],
   "source": [
    "print(pd.Timestamp('2016-11-10'))"
   ]
  },
  {
   "cell_type": "code",
   "execution_count": 8,
   "metadata": {},
   "outputs": [
    {
     "name": "stdout",
     "output_type": "stream",
     "text": [
      "2021-06-15 11:16:37.065699\n"
     ]
    }
   ],
   "source": [
    "print(pd.Timestamp(\"now\"))"
   ]
  },
  {
   "cell_type": "code",
   "execution_count": 9,
   "metadata": {},
   "outputs": [
    {
     "name": "stdout",
     "output_type": "stream",
     "text": [
      "2012-05-03 11:30:00\n"
     ]
    }
   ],
   "source": [
    "print(pd.Timestamp('2012-05-03 11:30'))"
   ]
  },
  {
   "cell_type": "code",
   "execution_count": 11,
   "metadata": {},
   "outputs": [
    {
     "name": "stdout",
     "output_type": "stream",
     "text": [
      "2020-12-25 00:00:00\n"
     ]
    }
   ],
   "source": [
    "date1 = datetime(year=2020, month=12, day=25)\n",
    "print(date1)"
   ]
  },
  {
   "cell_type": "code",
   "execution_count": 13,
   "metadata": {},
   "outputs": [
    {
     "name": "stdout",
     "output_type": "stream",
     "text": [
      "2021-01-01 00:00:00\n"
     ]
    }
   ],
   "source": [
    "from dateutil import parser\n",
    "date2 = parser.parse(\"1st of January, 2021\")\n",
    "print(date2)"
   ]
  },
  {
   "cell_type": "code",
   "execution_count": 25,
   "metadata": {},
   "outputs": [
    {
     "name": "stdout",
     "output_type": "stream",
     "text": [
      "today :  2021-06-15\n",
      "tomorrow :  2021-06-16\n",
      "yesterday :  2021-06-14\n",
      "Difference :  2 days, 0:00:00\n"
     ]
    }
   ],
   "source": [
    "today = datetime.now().date()\n",
    "print(\"today : \" , today)\n",
    "tomorrow = today + pd.Timedelta(days=1)\n",
    "print(\"tomorrow : \" , tomorrow)\n",
    "yesterday = today - pd.Timedelta(days=1)\n",
    "print(\"yesterday : \" , yesterday)\n",
    "print(\"Difference : \" , ( tomorrow - yesterday))"
   ]
  },
  {
   "cell_type": "code",
   "execution_count": null,
   "metadata": {},
   "outputs": [],
   "source": []
  }
 ],
 "metadata": {
  "kernelspec": {
   "display_name": "Python 3",
   "language": "python",
   "name": "python3"
  },
  "language_info": {
   "codemirror_mode": {
    "name": "ipython",
    "version": 3
   },
   "file_extension": ".py",
   "mimetype": "text/x-python",
   "name": "python",
   "nbconvert_exporter": "python",
   "pygments_lexer": "ipython3",
   "version": "3.7.4"
  }
 },
 "nbformat": 4,
 "nbformat_minor": 2
}
